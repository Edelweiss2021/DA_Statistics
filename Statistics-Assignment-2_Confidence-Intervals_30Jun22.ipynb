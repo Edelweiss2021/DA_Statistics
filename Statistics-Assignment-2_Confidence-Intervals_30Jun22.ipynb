{
 "cells": [
  {
   "cell_type": "markdown",
   "metadata": {},
   "source": [
    "# <p style=\"background-color:#00b38f; font-family:newtimeroman; color:#FFF9ED; font-size:100%; text-align:center; border-radius:10px 10px;\">Statistics Assignment-2 <br> Confidence Intervals <br> (30 Jun 22)</p>"
   ]
  },
  {
   "cell_type": "markdown",
   "metadata": {},
   "source": [
    "# Importing Libraries"
   ]
  },
  {
   "cell_type": "code",
   "execution_count": 2,
   "metadata": {},
   "outputs": [],
   "source": [
    "import numpy as np\n",
    "import matplotlib.pyplot as plt\n",
    "from scipy import stats\n",
    "import seaborn as sns"
   ]
  },
  {
   "cell_type": "markdown",
   "metadata": {},
   "source": [
    "## EXERCISE 1 \n",
    "Suppose scores on exams in statistics are normally distributed with an unknown population mean and a population standard deviation of 3 points. A random sample of 36 scores is taken and gives a sample mean (sample  mean score) of 68. Find a confidence interval estimate for the population mean exam score (the mean score on all exams).\n",
    "\n",
    "Find a 90% confidence interval for the true (population) mean of statistics exam scores."
   ]
  },
  {
   "cell_type": "code",
   "execution_count": 3,
   "metadata": {},
   "outputs": [
    {
     "name": "stdout",
     "output_type": "stream",
     "text": [
      "Standard error of the mean:  0.5\n"
     ]
    }
   ],
   "source": [
    "xbar = 68                  # sample mean\n",
    "n = 36                     # sample size\n",
    "sigma = 3                  # population standard deviation \n",
    "sem = sigma / np.sqrt(n)   # standard error of the mean\n",
    "print(\"Standard error of the mean: \", sem)"
   ]
  },
  {
   "cell_type": "code",
   "execution_count": 4,
   "metadata": {},
   "outputs": [
    {
     "name": "stdout",
     "output_type": "stream",
     "text": [
      "Confidence interval estimates:  (67.1775, 68.8225)\n"
     ]
    }
   ],
   "source": [
    "# Calculate 90% Confidence Interval around the mean manually\n",
    "\n",
    "z = 1.645 # alpha = 0.10 and alpha/2 = 0.05, z value for 0.05 is 1.645\n",
    "upper = xbar + z * sem\n",
    "lower = xbar - z * sem\n",
    "print(\"Confidence interval estimates: \", (lower, upper))"
   ]
  },
  {
   "cell_type": "code",
   "execution_count": 5,
   "metadata": {},
   "outputs": [
    {
     "data": {
      "text/plain": [
       "(67.17757318652427, 68.82242681347573)"
      ]
     },
     "execution_count": 5,
     "metadata": {},
     "output_type": "execute_result"
    }
   ],
   "source": [
    "# Calculate 90% Confidence Interval around the mean by using scipy.stats:\n",
    "stats.norm.interval(alpha=0.90, loc=xbar, scale=sem)"
   ]
  },
  {
   "cell_type": "markdown",
   "metadata": {},
   "source": [
    "## EXERCISE 2\n",
    "What is the normal body temperature for healthy humans? A random sample of 130 healthy human body temperatures provided by Allen Shoemaker7 yielded 98.25 degrees and standard deviation 0.73 degrees. \n",
    "\n",
    "Give a 99% confidence interval for the average body temperature of healthy people."
   ]
  },
  {
   "cell_type": "code",
   "execution_count": 6,
   "metadata": {},
   "outputs": [
    {
     "name": "stdout",
     "output_type": "stream",
     "text": [
      "Standard error of the mean:  0.06402523540941313\n"
     ]
    }
   ],
   "source": [
    "xbar = 98.25               # sample mean\n",
    "n = 130                    # sample size\n",
    "sigma = 0.73               # sample standard deviation \n",
    "sem = sigma / np.sqrt(n)   # standard error of the mean\n",
    "print(\"Standard error of the mean: \", sem)"
   ]
  },
  {
   "cell_type": "code",
   "execution_count": 7,
   "metadata": {},
   "outputs": [
    {
     "name": "stdout",
     "output_type": "stream",
     "text": [
      "Confidence interval estimates:  (98.08481489264372, 98.41518510735628)\n"
     ]
    }
   ],
   "source": [
    "# Calculate 99% Confidence Interval around the mean manually\n",
    "\n",
    "z = 2.58 # alpha = 0.01 and alpha/2 = 0.005, z value for 0.005 is 2.58\n",
    "upper = xbar + z * sem\n",
    "lower = xbar - z * sem\n",
    "print(\"Confidence interval estimates: \", (lower, upper))"
   ]
  },
  {
   "cell_type": "code",
   "execution_count": 8,
   "metadata": {},
   "outputs": [
    {
     "data": {
      "text/plain": [
       "(98.08508192246582, 98.41491807753418)"
      ]
     },
     "execution_count": 8,
     "metadata": {},
     "output_type": "execute_result"
    }
   ],
   "source": [
    "# Calculate 99% Confidence Interval around the mean by using scipy.stats:\n",
    "stats.norm.interval(alpha=0.99, loc=xbar, scale=sem)"
   ]
  },
  {
   "cell_type": "markdown",
   "metadata": {},
   "source": [
    "## EXERCISE 3\n",
    "The administrators for a hospital wished to estimate the average number of days required for inpatient treatment of patients between the ages of 25 and 34. A random sample of 500 hospital patients between these ages produced a mean and standard deviation equal to 5.4 and 3.1 days, respectively.\n",
    "\n",
    "Construct a 95% confidence interval for the mean length of stay for the population of patients from which the sample was drawn."
   ]
  },
  {
   "cell_type": "code",
   "execution_count": 9,
   "metadata": {},
   "outputs": [
    {
     "name": "stdout",
     "output_type": "stream",
     "text": [
      "Standard error of the mean:  0.13863621460498696\n"
     ]
    }
   ],
   "source": [
    "xbar = 5.4                 # sample mean\n",
    "n = 500                    # sample size\n",
    "sigma = 3.1                # sample standard deviation \n",
    "sem = sigma / np.sqrt(n)   # standard error of the mean\n",
    "print(\"Standard error of the mean: \", sem)"
   ]
  },
  {
   "cell_type": "code",
   "execution_count": 10,
   "metadata": {},
   "outputs": [
    {
     "name": "stdout",
     "output_type": "stream",
     "text": [
      "Confidence interval estimates:  (5.128273019374226, 5.671726980625775)\n"
     ]
    }
   ],
   "source": [
    "# Calculate 95% Confidence Interval around the mean manually\n",
    "\n",
    "z = 1.96 # alpha = 0.05 and alpha/2 = 0.025, z value for 0.025 is 1.96\n",
    "upper = xbar + z * sem\n",
    "lower = xbar - z * sem\n",
    "print(\"Confidence interval estimates: \", (lower, upper))"
   ]
  },
  {
   "cell_type": "code",
   "execution_count": 11,
   "metadata": {},
   "outputs": [
    {
     "data": {
      "text/plain": [
       "(5.12827801242126, 5.67172198757874)"
      ]
     },
     "execution_count": 11,
     "metadata": {},
     "output_type": "execute_result"
    }
   ],
   "source": [
    "# Calculate 95% Confidence Interval around the mean by using scipy.stats:\n",
    "stats.norm.interval(alpha=0.95, loc=xbar, scale=sem)"
   ]
  }
 ],
 "metadata": {
  "kernelspec": {
   "display_name": "Python 3.9.7 ('base')",
   "language": "python",
   "name": "python3"
  },
  "language_info": {
   "codemirror_mode": {
    "name": "ipython",
    "version": 3
   },
   "file_extension": ".py",
   "mimetype": "text/x-python",
   "name": "python",
   "nbconvert_exporter": "python",
   "pygments_lexer": "ipython3",
   "version": "3.9.7"
  },
  "orig_nbformat": 4,
  "vscode": {
   "interpreter": {
    "hash": "c0213b4e991faad0eaee93c2092d45d01284204b86fafe651bbf22ab4807397a"
   }
  }
 },
 "nbformat": 4,
 "nbformat_minor": 2
}
