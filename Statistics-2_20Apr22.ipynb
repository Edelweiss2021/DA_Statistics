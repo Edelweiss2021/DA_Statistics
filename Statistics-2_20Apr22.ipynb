{
 "cells": [
  {
   "cell_type": "markdown",
   "metadata": {},
   "source": [
    "# **Statistics - 2 (20 Apr 22)**"
   ]
  },
  {
   "cell_type": "markdown",
   "metadata": {},
   "source": [
    "## **Pre-Class**"
   ]
  },
  {
   "cell_type": "code",
   "execution_count": 1,
   "metadata": {},
   "outputs": [
    {
     "name": "stdout",
     "output_type": "stream",
     "text": [
      "mean : 37.0\n",
      "median : 30.0\n",
      "mode : ModeResult(mode=array([33]), count=array([3]))\n"
     ]
    }
   ],
   "source": [
    "import numpy as np\n",
    "from scipy import stats\n",
    "\n",
    "salary = [102, 33, 26, 27, 30, 25, 33, 33, 24]\n",
    "\n",
    "mean_salary = np.mean(salary)\n",
    "print(\"mean :\", mean_salary)\n",
    "\n",
    "median_salary = np.median(salary)\n",
    "print(\"median :\", median_salary)\n",
    "\n",
    "mode_salary = stats.mode(salary)\n",
    "print(\"mode :\", mode_salary)"
   ]
  },
  {
   "cell_type": "code",
   "execution_count": 2,
   "metadata": {},
   "outputs": [
    {
     "name": "stdout",
     "output_type": "stream",
     "text": [
      "Range : 78\n",
      "Variance : 539.5555555555555\n",
      "Std : 23.22833518691246\n",
      "Q1 : 26.0\n",
      "Q2 : 30.0\n",
      "Q3 : 33.0\n",
      "IQR : 7.0\n"
     ]
    }
   ],
   "source": [
    "import numpy as np\n",
    "from scipy import stats\n",
    "\n",
    "salary = [102, 33, 26, 27, 30, 25, 33, 33, 24]\n",
    "\n",
    "print(\"Range :\", (np.max(salary) - np.min(salary)))\n",
    "\n",
    "print(\"Variance :\", (np.var(salary)))\n",
    "\n",
    "print(\"Std :\", np.std(salary))\n",
    "\n",
    "print(\"Q1 :\", (np.percentile(salary, 25)))\n",
    "\n",
    "print(\"Q2 :\", (np.percentile(salary, 50))) #Q2 is also called median\n",
    "\n",
    "print(\"Q3 :\", (np.percentile(salary, 75)))\n",
    "\n",
    "print(\"IQR :\", (stats.iqr(salary)))"
   ]
  },
  {
   "cell_type": "code",
   "execution_count": 4,
   "metadata": {},
   "outputs": [
    {
     "name": "stdout",
     "output_type": "stream",
     "text": [
      "Std : 9.089004345911603\n"
     ]
    }
   ],
   "source": [
    "import numpy as np\n",
    "from scipy import stats\n",
    "\n",
    "list_1 = [1, 10, 7, 12, 0, 30, 15, 22, 8, 2]\n",
    "\n",
    "print(\"Std :\", (np.std(list_1)))"
   ]
  },
  {
   "cell_type": "code",
   "execution_count": 5,
   "metadata": {},
   "outputs": [
    {
     "name": "stdout",
     "output_type": "stream",
     "text": [
      "IQR : 7.0\n"
     ]
    }
   ],
   "source": [
    "import numpy as np\n",
    "from scipy import stats\n",
    "\n",
    "list_2 = [9, 11, 4, 14, 8, 2, 10, 3, 10, 9, 6, 0, 1]\n",
    "\n",
    "print(\"IQR :\", (stats.iqr(list_2)))"
   ]
  },
  {
   "cell_type": "code",
   "execution_count": 6,
   "metadata": {},
   "outputs": [
    {
     "name": "stdout",
     "output_type": "stream",
     "text": [
      "IQR : 6.0\n"
     ]
    }
   ],
   "source": [
    "import numpy as np\n",
    "from scipy import stats\n",
    "\n",
    "list_3 = [8, 10, 4, 24, 8, 3, 10, 3, 40, 7, 6, 12, 4]\n",
    "\n",
    "print(\"IQR :\", (stats.iqr(list_3)))"
   ]
  },
  {
   "cell_type": "markdown",
   "metadata": {},
   "source": [
    "## **In-Class (20 Apr 22)**"
   ]
  },
  {
   "cell_type": "code",
   "execution_count": null,
   "metadata": {},
   "outputs": [],
   "source": []
  }
 ],
 "metadata": {
  "interpreter": {
   "hash": "1dcc505b0a1018f33dbfa8ecb67bc1e9e03ffc1d67beb82ea75fddb77112ff70"
  },
  "kernelspec": {
   "display_name": "Python 3.9.7 ('base')",
   "language": "python",
   "name": "python3"
  },
  "language_info": {
   "codemirror_mode": {
    "name": "ipython",
    "version": 3
   },
   "file_extension": ".py",
   "mimetype": "text/x-python",
   "name": "python",
   "nbconvert_exporter": "python",
   "pygments_lexer": "ipython3",
   "version": "3.9.7"
  },
  "orig_nbformat": 4
 },
 "nbformat": 4,
 "nbformat_minor": 2
}
