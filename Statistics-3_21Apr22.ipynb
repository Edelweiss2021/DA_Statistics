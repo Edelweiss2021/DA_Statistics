{
 "cells": [
  {
   "cell_type": "markdown",
   "metadata": {},
   "source": [
    "# **Statistics - 3 (21 Apr 22)**"
   ]
  },
  {
   "cell_type": "markdown",
   "metadata": {},
   "source": [
    "## **Pre-Class**"
   ]
  },
  {
   "cell_type": "markdown",
   "metadata": {},
   "source": [
    "Correlation and Covariance"
   ]
  },
  {
   "cell_type": "code",
   "execution_count": 1,
   "metadata": {},
   "outputs": [
    {
     "name": "stdout",
     "output_type": "stream",
     "text": [
      "Covarience : [[102.56666667  24.        ]\n",
      " [ 24.           6.8       ]]\n",
      "Correlation : [[1.         0.90876934]\n",
      " [0.90876934 1.        ]]\n"
     ]
    }
   ],
   "source": [
    "# with numpy library\n",
    "\n",
    "import numpy as np\n",
    "\n",
    "temp = [93, 84, 82, 78, 98, 70]\n",
    "\n",
    "number_of_people = [13, 10, 11, 8, 15, 9]\n",
    "\n",
    "print(\"Covarience :\", np.cov(temp, number_of_people))\n",
    "\n",
    "print(\"Correlation :\", np.corrcoef(temp, number_of_people))"
   ]
  },
  {
   "cell_type": "code",
   "execution_count": 2,
   "metadata": {},
   "outputs": [
    {
     "name": "stdout",
     "output_type": "stream",
     "text": [
      "Correlation coefficient and p-value : (0.9087693361896165, 0.012104893069677013)\n"
     ]
    }
   ],
   "source": [
    "# with scipy library\n",
    "\n",
    "from scipy import stats\n",
    "\n",
    "print(\"Correlation coefficient and p-value :\", stats.pearsonr(temp, number_of_people))"
   ]
  },
  {
   "cell_type": "code",
   "execution_count": null,
   "metadata": {},
   "outputs": [],
   "source": []
  },
  {
   "cell_type": "markdown",
   "metadata": {},
   "source": [
    "## **In-Class (20 Apr 22)**"
   ]
  },
  {
   "cell_type": "markdown",
   "metadata": {},
   "source": [
    "### Central Tendency"
   ]
  },
  {
   "cell_type": "code",
   "execution_count": null,
   "metadata": {},
   "outputs": [],
   "source": []
  },
  {
   "cell_type": "code",
   "execution_count": null,
   "metadata": {},
   "outputs": [],
   "source": []
  },
  {
   "cell_type": "markdown",
   "metadata": {},
   "source": [
    "### Standard Deviation and Variance"
   ]
  },
  {
   "cell_type": "code",
   "execution_count": null,
   "metadata": {},
   "outputs": [],
   "source": []
  },
  {
   "cell_type": "code",
   "execution_count": null,
   "metadata": {},
   "outputs": [],
   "source": []
  }
 ],
 "metadata": {
  "interpreter": {
   "hash": "1dcc505b0a1018f33dbfa8ecb67bc1e9e03ffc1d67beb82ea75fddb77112ff70"
  },
  "kernelspec": {
   "display_name": "Python 3.9.7 ('base')",
   "language": "python",
   "name": "python3"
  },
  "language_info": {
   "codemirror_mode": {
    "name": "ipython",
    "version": 3
   },
   "file_extension": ".py",
   "mimetype": "text/x-python",
   "name": "python",
   "nbconvert_exporter": "python",
   "pygments_lexer": "ipython3",
   "version": "3.9.7"
  },
  "orig_nbformat": 4
 },
 "nbformat": 4,
 "nbformat_minor": 2
}
